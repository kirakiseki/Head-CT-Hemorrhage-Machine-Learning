{
 "cells": [
  {
   "cell_type": "markdown",
   "id": "1f9a9b8b",
   "metadata": {},
   "source": [
    "# 编程语言只是工具，合适的需求选择合适的语言\n",
    "### Python 场景：数据可视化、数据可视化、人工智能模型训练、简易GUI开发、爬虫\n",
    "### C 场景：单片机嵌入式开发\n",
    "### C++ 场景：机器人项目、大型软件项目\n",
    "### C# 场景：游戏开发、大型软件项目\n",
    "\n",
    "### 前端开发语言：HTML、CSS、Javascript"
   ]
  },
  {
   "cell_type": "markdown",
   "id": "c6877b0b",
   "metadata": {},
   "source": [
    "\n",
    "\n",
    "# Python在项目开发中的优势"
   ]
  },
  {
   "cell_type": "markdown",
   "id": "c33180e5",
   "metadata": {},
   "source": [
    "### 1、语法简单、调试灵活\n",
    "### 2、处理数据、数据可视化\n",
    "### 3、下载第三方库便利\n",
    "### 4、主流人工智能框架 TensorFlow、PyTorch、MXNet、CNTK 是Python库\n",
    "### 5、解释性语言，配置好环境能稳定运行"
   ]
  },
  {
   "cell_type": "markdown",
   "id": "df80c462",
   "metadata": {},
   "source": [
    "# Python入门\n",
    "## 学习重点：\n",
    "### 1、 组合数据类型\n",
    "### 2、python的函数定义与调用\n",
    "### 3、if语句与循环语句的写法\n",
    "### 4、面向对象的思维方式\n",
    "## 学习方式：\n",
    "### 推荐找任意教材书籍系统学习、多敲例程代码"
   ]
  },
  {
   "attachments": {
    "image.png": {
     "image/png": "[encoded data removed]"
    }
   },
   "cell_type": "markdown",
   "id": "7e99c7ea",
   "metadata": {},
   "source": [
    "\n",
    "## 组合数据类型\n",
    "详细讲解 https://blog.csdn.net/weixin_61508423/article/details/126449737\n",
    "![image.png](attachment:image.png)"
   ]
  },
  {
   "cell_type": "markdown",
   "id": "a9a87b67",
   "metadata": {},
   "source": [
    " ### 序列类型包括：字符串(str)、列表(list)、元组(tuple)。<br><br> 字符串是单一字符的有序集合，所以可以视作基本数据类型。<br><br>无论哪种序列类型，都可以使用相同的索引体系，从左到右序列号递增（下标，第一个为0），从右到左序列号递减（下标，第一个为-1）。"
   ]
  },
  {
   "cell_type": "markdown",
   "id": "41c7e94e",
   "metadata": {},
   "source": [
    "### 列表<br><br> 包含0个或者多个对象<br><br>有序<br><br>[ ]定义<br><br>\n",
    "### 元组<br><br>不可修改替换和删除<br><br>有序<br><br> ， （ ）定义"
   ]
  },
  {
   "cell_type": "code",
   "execution_count": 18,
   "id": "9782f0ae",
   "metadata": {},
   "outputs": [
    {
     "name": "stdout",
     "output_type": "stream",
     "text": [
      "[0, 2, 3] [0, 2, 3]\n",
      "[0, 2, 3] [1, 2, 3]\n",
      "[3, 2, 0]\n",
      "[0, 2, 3]\n",
      "[]\n"
     ]
    }
   ],
   "source": [
    "ls = [1, 2, 3]\n",
    "lls = ls  # 注意这里的赋值没有拷贝赋值 -- 单纯的共享一块区域，类似于C++的引用\n",
    "lls[0] = 0\n",
    "print(lls, ls)\n",
    "lls2 = ls.copy()  # 此时才是拷贝，开辟的一个新的空间\n",
    "lls2[0] = 16\n",
    "print(ls, lls2)\n",
    "ls.reverse()  # 反转\n",
    "print(ls)\n",
    "ls.sort()  # 排序\n",
    "print(ls)\n",
    "ls.clear()\n",
    "print(ls)"
   ]
  },
  {
   "cell_type": "markdown",
   "id": "59b899fb",
   "metadata": {},
   "source": [
    "### 集合<br><br> 包含0个或者多个对象<br><br>无序、不重复<br><br>  set（）定义"
   ]
  },
  {
   "cell_type": "code",
   "execution_count": 23,
   "id": "39c3ed96",
   "metadata": {},
   "outputs": [
    {
     "name": "stdout",
     "output_type": "stream",
     "text": [
      "set() {'d', 'e', 'a', 'c', 'b'} {1, 2, 3, '四'}\n"
     ]
    }
   ],
   "source": [
    "set1 = set()  # 空集合\n",
    "set2 = set(\"abcdea\")  # 以字符串可迭代对象进行创建集合\n",
    "set3 = set([1, 2, 3, '四'])\n",
    "print(set1, set2, set3)"
   ]
  },
  {
   "cell_type": "markdown",
   "id": "9f74c7df",
   "metadata": {},
   "source": [
    "### 字典<br><br> 包含0个或者多个对象<br><br>有序 键——值<br><br>  {}定义"
   ]
  },
  {
   "cell_type": "code",
   "execution_count": 24,
   "id": "b9ba032a",
   "metadata": {},
   "outputs": [
    {
     "name": "stdout",
     "output_type": "stream",
     "text": [
      "{1: 'Yu', 2: 'shen', '三': 3}\n"
     ]
    }
   ],
   "source": [
    "dict1 = {1: \"Yu\", 2: \"shen\", '三': 3}\n",
    "print(dict1)"
   ]
  },
  {
   "cell_type": "code",
   "execution_count": 25,
   "id": "0ed5331d",
   "metadata": {},
   "outputs": [
    {
     "name": "stdout",
     "output_type": "stream",
     "text": [
      "{'一': 'YU', '二': 'shen', '三': 3}\n",
      "{1: 'Yu', 2: 'shen', '三': 3}\n"
     ]
    }
   ],
   "source": [
    "dict2 = dict(一=\"YU\", 二=\"shen\", 三=3)  # 关键字进行构造字典，键均为字符串\n",
    "print(dict2)\n",
    "dict3 = dict([(1, \"Yu\"), (2, \"shen\"), ('三', 3)])  # 利用序列进行创建字典对象\n",
    "print(dict3)"
   ]
  },
  {
   "cell_type": "code",
   "execution_count": 26,
   "id": "ff60187b",
   "metadata": {},
   "outputs": [
    {
     "name": "stdout",
     "output_type": "stream",
     "text": [
      "{1: 'Yu', 2: 'shen', '三': 3}\n",
      "True\n",
      "shen 3\n"
     ]
    }
   ],
   "source": [
    "dict3 = dict([(1, \"Yu\"), (2, \"shen\"), ('三', 3)])  # 利用序列进行创建字典对象\n",
    "print(dict3)\n",
    "print(1 in dict3)  # True\n",
    "print(dict3[2], dict3[\"三\"])"
   ]
  },
  {
   "cell_type": "code",
   "execution_count": 27,
   "id": "c0d042f7",
   "metadata": {},
   "outputs": [
    {
     "name": "stdout",
     "output_type": "stream",
     "text": [
      "{1: 'Yu', 2: 'shen', '三': 'special', 3: '666'}\n"
     ]
    }
   ],
   "source": [
    "dict1 = {1: \"Yu\", 2: \"shen\", '三': 3}\n",
    "# 将'三'对应的值修改为\"special\"，然后添加3键，对应值为\"666\"\n",
    "dict1['三'] = \"special\"  # 修改\n",
    "dict1[3] = \"666\"  # 添加\n",
    "print(dict1)"
   ]
  },
  {
   "cell_type": "markdown",
   "id": "1c9ad483",
   "metadata": {},
   "source": [
    "# Anaconda\n",
    "### 作用：虚拟环境管理\n",
    "### 常用指令 https://blog.csdn.net/weixin_46265255/article/details/121510530?ops_request_misc=%257B%2522request%255Fid%2522%253A%2522166695053616800184144066%2522%252C%2522scm%2522%253A%252220140713.130102334..%2522%257D&request_id=166695053616800184144066&biz_id=0&utm_medium=distribute.pc_search_result.none-task-blog-2~all~top_positive~default-1-121510530-null-null.142^v62^opensearch_v2,201^v3^control_1,213^v1^control&utm_term=conda%E6%8C%87%E4%BB%A4&spm=1018.2226.3001.4187"
   ]
  },
  {
   "cell_type": "markdown",
   "id": "c91ee46a",
   "metadata": {},
   "source": [
    "# DOS 磁盘操作系统(Disk Operating System）\n",
    "### https://blog.csdn.net/m0_67954892/article/details/125249707?ops_request_misc=%257B%2522request%255Fid%2522%253A%2522166695449816782388091154%2522%252C%2522scm%2522%253A%252220140713.130102334..%2522%257D&request_id=166695449816782388091154&biz_id=0&utm_medium=distribute.pc_search_result.none-task-blog-2~all~top_positive~default-1-125249707-null-null.142^v62^opensearch_v2,201^v3^control_1,213^v1^control&utm_term=Dos&spm=1018.2226.3001.4187"
   ]
  },
  {
   "cell_type": "markdown",
   "id": "84b7b828",
   "metadata": {},
   "source": [
    "# Github\n",
    "https://blog.csdn.net/weixin_43888891/article/details/112385076?ops_request_misc=%257B%2522request%255Fid%2522%253A%2522166695463716782395384370%2522%252C%2522scm%2522%253A%252220140713.130102334..%2522%257D&request_id=166695463716782395384370&biz_id=0&utm_medium=distribute.pc_search_result.none-task-blog-2~all~top_positive~default-2-112385076-null-null.142^v62^opensearch_v2,201^v3^control_1,213^v1^control&utm_term=GIthub&spm=1018.2226.3001.4187"
   ]
  },
  {
   "cell_type": "markdown",
   "id": "acfef613",
   "metadata": {},
   "source": [
    "# 常用搜索引擎\n",
    "### 百度<br><br>B站<br><br>CSDN<br><br>博客园<br><br>google<br><br>Github https://github.com/<br><br>arxiv https://arxiv.org/<br><br>\n"
   ]
  },
  {
   "cell_type": "markdown",
   "id": "e6f147a3",
   "metadata": {},
   "source": [
    "# 基于Keras的Mnist手写数据集分类器"
   ]
  },
  {
   "cell_type": "code",
   "execution_count": 1,
   "id": "3afc97ca",
   "metadata": {
    "ExecuteTime": {
     "end_time": "2023-05-22T10:48:07.924084Z",
     "start_time": "2023-05-22T10:48:00.720210Z"
    },
    "collapsed": true
   },
   "outputs": [
    {
     "name": "stderr",
     "output_type": "stream",
     "text": [
      "2023-05-22 10:48:01.400240: I tensorflow/core/platform/cpu_feature_guard.cc:193] This TensorFlow binary is optimized with oneAPI Deep Neural Network Library (oneDNN) to use the following CPU instructions in performance-critical operations:  AVX2 FMA\n",
      "To enable them in other operations, rebuild TensorFlow with the appropriate compiler flags.\n",
      "2023-05-22 10:48:04.877262: W tensorflow/compiler/xla/stream_executor/platform/default/dso_loader.cc:64] Could not load dynamic library 'libnvinfer.so.7'; dlerror: libnvinfer.so.7: cannot open shared object file: No such file or directory; LD_LIBRARY_PATH: :/usr/local/cuda-11.6/lib64:/usr/local/cuda-11.6/lib64\n",
      "2023-05-22 10:48:04.877496: W tensorflow/compiler/xla/stream_executor/platform/default/dso_loader.cc:64] Could not load dynamic library 'libnvinfer_plugin.so.7'; dlerror: libnvinfer_plugin.so.7: cannot open shared object file: No such file or directory; LD_LIBRARY_PATH: :/usr/local/cuda-11.6/lib64:/usr/local/cuda-11.6/lib64\n",
      "2023-05-22 10:48:04.877505: W tensorflow/compiler/tf2tensorrt/utils/py_utils.cc:38] TF-TRT Warning: Cannot dlopen some TensorRT libraries. If you would like to use Nvidia GPU with TensorRT, please make sure the missing libraries mentioned above are installed properly.\n"
     ]
    },
    {
     "data": {
      "text/plain": [
       "'2.11.0'"
      ]
     },
     "execution_count": 1,
     "metadata": {},
     "output_type": "execute_result"
    }
   ],
   "source": [
    "import tensorflow\n",
    "tensorflow.__version__"
   ]
  },
  {
   "cell_type": "code",
   "execution_count": 2,
   "id": "32d54802",
   "metadata": {
    "ExecuteTime": {
     "end_time": "2023-05-22T10:48:10.529748Z",
     "start_time": "2023-05-22T10:48:10.217421Z"
    }
   },
   "outputs": [
    {
     "name": "stdout",
     "output_type": "stream",
     "text": [
      "训练集中有60000个样本\n",
      "测试集中有10000个样本\n"
     ]
    }
   ],
   "source": [
    "import warnings\n",
    "warnings.filterwarnings(\"ignore\")\n",
    "from keras.datasets import mnist\n",
    "(x_train,y_train),(x_test,y_test)=mnist.load_data()\n",
    "\n",
    "print('训练集中有{}个样本'.format(len(x_train)))\n",
    "print('测试集中有{}个样本'.format(len(x_test)))"
   ]
  },
  {
   "cell_type": "code",
   "execution_count": 3,
   "id": "1ecd7033",
   "metadata": {
    "ExecuteTime": {
     "end_time": "2023-05-22T10:48:12.116918Z",
     "start_time": "2023-05-22T10:48:12.112261Z"
    }
   },
   "outputs": [
    {
     "data": {
      "text/plain": [
       "(60000, 28, 28)"
      ]
     },
     "execution_count": 3,
     "metadata": {},
     "output_type": "execute_result"
    }
   ],
   "source": [
    "x_train.shape"
   ]
  },
  {
   "cell_type": "code",
   "execution_count": 4,
   "id": "c5db6fe3",
   "metadata": {
    "ExecuteTime": {
     "end_time": "2023-05-22T10:48:12.652430Z",
     "start_time": "2023-05-22T10:48:12.632165Z"
    }
   },
   "outputs": [
    {
     "data": {
      "text/plain": [
       "(60000,)"
      ]
     },
     "execution_count": 4,
     "metadata": {},
     "output_type": "execute_result"
    }
   ],
   "source": [
    "y_train.shape"
   ]
  },
  {
   "cell_type": "code",
   "execution_count": 5,
   "id": "ee159924",
   "metadata": {
    "ExecuteTime": {
     "end_time": "2023-05-22T10:48:13.439332Z",
     "start_time": "2023-05-22T10:48:13.431338Z"
    }
   },
   "outputs": [
    {
     "data": {
      "text/plain": [
       "array([[[0, 0, 0, ..., 0, 0, 0],\n",
       "        [0, 0, 0, ..., 0, 0, 0],\n",
       "        [0, 0, 0, ..., 0, 0, 0],\n",
       "        ...,\n",
       "        [0, 0, 0, ..., 0, 0, 0],\n",
       "        [0, 0, 0, ..., 0, 0, 0],\n",
       "        [0, 0, 0, ..., 0, 0, 0]],\n",
       "\n",
       "       [[0, 0, 0, ..., 0, 0, 0],\n",
       "        [0, 0, 0, ..., 0, 0, 0],\n",
       "        [0, 0, 0, ..., 0, 0, 0],\n",
       "        ...,\n",
       "        [0, 0, 0, ..., 0, 0, 0],\n",
       "        [0, 0, 0, ..., 0, 0, 0],\n",
       "        [0, 0, 0, ..., 0, 0, 0]],\n",
       "\n",
       "       [[0, 0, 0, ..., 0, 0, 0],\n",
       "        [0, 0, 0, ..., 0, 0, 0],\n",
       "        [0, 0, 0, ..., 0, 0, 0],\n",
       "        ...,\n",
       "        [0, 0, 0, ..., 0, 0, 0],\n",
       "        [0, 0, 0, ..., 0, 0, 0],\n",
       "        [0, 0, 0, ..., 0, 0, 0]],\n",
       "\n",
       "       ...,\n",
       "\n",
       "       [[0, 0, 0, ..., 0, 0, 0],\n",
       "        [0, 0, 0, ..., 0, 0, 0],\n",
       "        [0, 0, 0, ..., 0, 0, 0],\n",
       "        ...,\n",
       "        [0, 0, 0, ..., 0, 0, 0],\n",
       "        [0, 0, 0, ..., 0, 0, 0],\n",
       "        [0, 0, 0, ..., 0, 0, 0]],\n",
       "\n",
       "       [[0, 0, 0, ..., 0, 0, 0],\n",
       "        [0, 0, 0, ..., 0, 0, 0],\n",
       "        [0, 0, 0, ..., 0, 0, 0],\n",
       "        ...,\n",
       "        [0, 0, 0, ..., 0, 0, 0],\n",
       "        [0, 0, 0, ..., 0, 0, 0],\n",
       "        [0, 0, 0, ..., 0, 0, 0]],\n",
       "\n",
       "       [[0, 0, 0, ..., 0, 0, 0],\n",
       "        [0, 0, 0, ..., 0, 0, 0],\n",
       "        [0, 0, 0, ..., 0, 0, 0],\n",
       "        ...,\n",
       "        [0, 0, 0, ..., 0, 0, 0],\n",
       "        [0, 0, 0, ..., 0, 0, 0],\n",
       "        [0, 0, 0, ..., 0, 0, 0]]], dtype=uint8)"
      ]
     },
     "execution_count": 5,
     "metadata": {},
     "output_type": "execute_result"
    }
   ],
   "source": [
    "x_train"
   ]
  },
  {
   "cell_type": "code",
   "execution_count": 6,
   "id": "9689bf58",
   "metadata": {
    "ExecuteTime": {
     "end_time": "2023-05-22T10:48:14.148089Z",
     "start_time": "2023-05-22T10:48:14.142736Z"
    }
   },
   "outputs": [
    {
     "data": {
      "text/plain": [
       "array([5, 0, 4, ..., 5, 6, 8], dtype=uint8)"
      ]
     },
     "execution_count": 6,
     "metadata": {},
     "output_type": "execute_result"
    }
   ],
   "source": [
    "y_train"
   ]
  },
  {
   "cell_type": "code",
   "execution_count": 7,
   "id": "c16e6f52",
   "metadata": {
    "ExecuteTime": {
     "end_time": "2023-05-22T10:48:15.028741Z",
     "start_time": "2023-05-22T10:48:15.021593Z"
    }
   },
   "outputs": [
    {
     "data": {
      "text/plain": [
       "(10000, 28, 28)"
      ]
     },
     "execution_count": 7,
     "metadata": {},
     "output_type": "execute_result"
    }
   ],
   "source": [
    "x_test.shape"
   ]
  },
  {
   "cell_type": "code",
   "execution_count": 8,
   "id": "0b59995f",
   "metadata": {
    "ExecuteTime": {
     "end_time": "2023-05-22T10:48:15.526663Z",
     "start_time": "2023-05-22T10:48:15.514020Z"
    }
   },
   "outputs": [
    {
     "data": {
      "text/plain": [
       "(10000,)"
      ]
     },
     "execution_count": 8,
     "metadata": {},
     "output_type": "execute_result"
    }
   ],
   "source": [
    "y_test.shape"
   ]
  },
  {
   "cell_type": "code",
   "execution_count": 9,
   "id": "894e9321",
   "metadata": {
    "ExecuteTime": {
     "end_time": "2023-05-22T10:48:16.203314Z",
     "start_time": "2023-05-22T10:48:16.195676Z"
    }
   },
   "outputs": [
    {
     "data": {
      "text/plain": [
       "array([7, 2, 1, ..., 4, 5, 6], dtype=uint8)"
      ]
     },
     "execution_count": 9,
     "metadata": {},
     "output_type": "execute_result"
    }
   ],
   "source": [
    "y_test"
   ]
  },
  {
   "cell_type": "markdown",
   "id": "d868b45d",
   "metadata": {},
   "source": [
    "可视化数据"
   ]
  },
  {
   "cell_type": "code",
   "execution_count": 10,
   "id": "8d8095d0",
   "metadata": {
    "ExecuteTime": {
     "end_time": "2023-05-22T10:48:18.982896Z",
     "start_time": "2023-05-22T10:48:17.882727Z"
    },
    "collapsed": true
   },
   "outputs": [],
   "source": [
    "import matplotlib.pyplot as plt\n",
    "%matplotlib inline\n",
    "plt.rcParams['font.sans-serif']=['SimHei']#正常显示中文标签\n",
    "plt.rcParams['axes.unicode_minus']=False #正常显示负号\n",
    "\n",
    "import numpy as np"
   ]
  },
  {
   "cell_type": "code",
   "execution_count": 11,
   "id": "0653f258",
   "metadata": {
    "ExecuteTime": {
     "end_time": "2023-05-22T10:48:19.700607Z",
     "start_time": "2023-05-22T10:48:19.690410Z"
    }
   },
   "outputs": [
    {
     "data": {
      "text/plain": [
       "(28, 28)"
      ]
     },
     "execution_count": 11,
     "metadata": {},
     "output_type": "execute_result"
    }
   ],
   "source": [
    "x_train[0].shape"
   ]
  },
  {
   "cell_type": "code",
   "execution_count": 12,
   "id": "c1f4e033",
   "metadata": {
    "ExecuteTime": {
     "end_time": "2023-05-22T10:48:20.195773Z",
     "start_time": "2023-05-22T10:48:20.173260Z"
    }
   },
   "outputs": [
    {
     "data": {
      "text/plain": [
       "array([[  0,   0,   0,   0,   0,   0,   0,   0,   0,   0,   0,   0,   0,\n",
       "          0,   0,   0,   0,   0,   0,   0,   0,   0,   0,   0,   0,   0,\n",
       "          0,   0],\n",
       "       [  0,   0,   0,   0,   0,   0,   0,   0,   0,   0,   0,   0,   0,\n",
       "          0,   0,   0,   0,   0,   0,   0,   0,   0,   0,   0,   0,   0,\n",
       "          0,   0],\n",
       "       [  0,   0,   0,   0,   0,   0,   0,   0,   0,   0,   0,   0,   0,\n",
       "          0,   0,   0,   0,   0,   0,   0,   0,   0,   0,   0,   0,   0,\n",
       "          0,   0],\n",
       "       [  0,   0,   0,   0,   0,   0,   0,   0,   0,   0,   0,   0,   0,\n",
       "          0,   0,   0,   0,   0,   0,   0,   0,   0,   0,   0,   0,   0,\n",
       "          0,   0],\n",
       "       [  0,   0,   0,   0,   0,   0,   0,   0,   0,   0,   0,   0,   0,\n",
       "          0,   0,   0,   0,   0,   0,   0,   0,   0,   0,   0,   0,   0,\n",
       "          0,   0],\n",
       "       [  0,   0,   0,   0,   0,   0,   0,   0,   0,   0,   0,   0,   3,\n",
       "         18,  18,  18, 126, 136, 175,  26, 166, 255, 247, 127,   0,   0,\n",
       "          0,   0],\n",
       "       [  0,   0,   0,   0,   0,   0,   0,   0,  30,  36,  94, 154, 170,\n",
       "        253, 253, 253, 253, 253, 225, 172, 253, 242, 195,  64,   0,   0,\n",
       "          0,   0],\n",
       "       [  0,   0,   0,   0,   0,   0,   0,  49, 238, 253, 253, 253, 253,\n",
       "        253, 253, 253, 253, 251,  93,  82,  82,  56,  39,   0,   0,   0,\n",
       "          0,   0],\n",
       "       [  0,   0,   0,   0,   0,   0,   0,  18, 219, 253, 253, 253, 253,\n",
       "        253, 198, 182, 247, 241,   0,   0,   0,   0,   0,   0,   0,   0,\n",
       "          0,   0],\n",
       "       [  0,   0,   0,   0,   0,   0,   0,   0,  80, 156, 107, 253, 253,\n",
       "        205,  11,   0,  43, 154,   0,   0,   0,   0,   0,   0,   0,   0,\n",
       "          0,   0],\n",
       "       [  0,   0,   0,   0,   0,   0,   0,   0,   0,  14,   1, 154, 253,\n",
       "         90,   0,   0,   0,   0,   0,   0,   0,   0,   0,   0,   0,   0,\n",
       "          0,   0],\n",
       "       [  0,   0,   0,   0,   0,   0,   0,   0,   0,   0,   0, 139, 253,\n",
       "        190,   2,   0,   0,   0,   0,   0,   0,   0,   0,   0,   0,   0,\n",
       "          0,   0],\n",
       "       [  0,   0,   0,   0,   0,   0,   0,   0,   0,   0,   0,  11, 190,\n",
       "        253,  70,   0,   0,   0,   0,   0,   0,   0,   0,   0,   0,   0,\n",
       "          0,   0],\n",
       "       [  0,   0,   0,   0,   0,   0,   0,   0,   0,   0,   0,   0,  35,\n",
       "        241, 225, 160, 108,   1,   0,   0,   0,   0,   0,   0,   0,   0,\n",
       "          0,   0],\n",
       "       [  0,   0,   0,   0,   0,   0,   0,   0,   0,   0,   0,   0,   0,\n",
       "         81, 240, 253, 253, 119,  25,   0,   0,   0,   0,   0,   0,   0,\n",
       "          0,   0],\n",
       "       [  0,   0,   0,   0,   0,   0,   0,   0,   0,   0,   0,   0,   0,\n",
       "          0,  45, 186, 253, 253, 150,  27,   0,   0,   0,   0,   0,   0,\n",
       "          0,   0],\n",
       "       [  0,   0,   0,   0,   0,   0,   0,   0,   0,   0,   0,   0,   0,\n",
       "          0,   0,  16,  93, 252, 253, 187,   0,   0,   0,   0,   0,   0,\n",
       "          0,   0],\n",
       "       [  0,   0,   0,   0,   0,   0,   0,   0,   0,   0,   0,   0,   0,\n",
       "          0,   0,   0,   0, 249, 253, 249,  64,   0,   0,   0,   0,   0,\n",
       "          0,   0],\n",
       "       [  0,   0,   0,   0,   0,   0,   0,   0,   0,   0,   0,   0,   0,\n",
       "          0,  46, 130, 183, 253, 253, 207,   2,   0,   0,   0,   0,   0,\n",
       "          0,   0],\n",
       "       [  0,   0,   0,   0,   0,   0,   0,   0,   0,   0,   0,   0,  39,\n",
       "        148, 229, 253, 253, 253, 250, 182,   0,   0,   0,   0,   0,   0,\n",
       "          0,   0],\n",
       "       [  0,   0,   0,   0,   0,   0,   0,   0,   0,   0,  24, 114, 221,\n",
       "        253, 253, 253, 253, 201,  78,   0,   0,   0,   0,   0,   0,   0,\n",
       "          0,   0],\n",
       "       [  0,   0,   0,   0,   0,   0,   0,   0,  23,  66, 213, 253, 253,\n",
       "        253, 253, 198,  81,   2,   0,   0,   0,   0,   0,   0,   0,   0,\n",
       "          0,   0],\n",
       "       [  0,   0,   0,   0,   0,   0,  18, 171, 219, 253, 253, 253, 253,\n",
       "        195,  80,   9,   0,   0,   0,   0,   0,   0,   0,   0,   0,   0,\n",
       "          0,   0],\n",
       "       [  0,   0,   0,   0,  55, 172, 226, 253, 253, 253, 253, 244, 133,\n",
       "         11,   0,   0,   0,   0,   0,   0,   0,   0,   0,   0,   0,   0,\n",
       "          0,   0],\n",
       "       [  0,   0,   0,   0, 136, 253, 253, 253, 212, 135, 132,  16,   0,\n",
       "          0,   0,   0,   0,   0,   0,   0,   0,   0,   0,   0,   0,   0,\n",
       "          0,   0],\n",
       "       [  0,   0,   0,   0,   0,   0,   0,   0,   0,   0,   0,   0,   0,\n",
       "          0,   0,   0,   0,   0,   0,   0,   0,   0,   0,   0,   0,   0,\n",
       "          0,   0],\n",
       "       [  0,   0,   0,   0,   0,   0,   0,   0,   0,   0,   0,   0,   0,\n",
       "          0,   0,   0,   0,   0,   0,   0,   0,   0,   0,   0,   0,   0,\n",
       "          0,   0],\n",
       "       [  0,   0,   0,   0,   0,   0,   0,   0,   0,   0,   0,   0,   0,\n",
       "          0,   0,   0,   0,   0,   0,   0,   0,   0,   0,   0,   0,   0,\n",
       "          0,   0]], dtype=uint8)"
      ]
     },
     "execution_count": 12,
     "metadata": {},
     "output_type": "execute_result"
    }
   ],
   "source": [
    "x_train[0]"
   ]
  },
  {
   "cell_type": "code",
   "execution_count": 13,
   "id": "0ffefe21",
   "metadata": {
    "ExecuteTime": {
     "end_time": "2023-05-22T10:48:21.875969Z",
     "start_time": "2023-05-22T10:48:21.622534Z"
    }
   },
   "outputs": [
    {
     "data": {
      "text/plain": [
       "<function matplotlib.pyplot.show(close=None, block=None)>"
      ]
     },
     "execution_count": 13,
     "metadata": {},
     "output_type": "execute_result"
    },
    {
     "name": "stderr",
     "output_type": "stream",
     "text": [
      "findfont: Font family ['sans-serif'] not found. Falling back to DejaVu Sans.\n",
      "findfont: Generic family 'sans-serif' not found because none of the following families were found: SimHei\n",
      "findfont: Font family ['sans-serif'] not found. Falling back to DejaVu Sans.\n",
      "findfont: Generic family 'sans-serif' not found because none of the following families were found: SimHei\n"
     ]
    },
    {
     "data": {
      "image/png": "[encoded data removed]",
      "text/plain": [
       "<Figure size 640x480 with 1 Axes>"
      ]
     },
     "metadata": {},
     "output_type": "display_data"
    }
   ],
   "source": [
    "i=0\n",
    "plt.imshow(x_train[i])\n",
    "plt.title('真实标签:'+str(y_train[i]))\n",
    "plt.show"
   ]
  },
  {
   "cell_type": "code",
   "execution_count": 14,
   "id": "0bed4333",
   "metadata": {
    "ExecuteTime": {
     "end_time": "2023-05-22T10:48:25.216669Z",
     "start_time": "2023-05-22T10:48:22.883889Z"
    }
   },
   "outputs": [
    {
     "data": {
      "image/png": "[encoded data removed]",
      "text/plain": [
       "<Figure size 1000x1000 with 1 Axes>"
      ]
     },
     "metadata": {},
     "output_type": "display_data"
    }
   ],
   "source": [
    "#绘制像素热力图\n",
    "def visualize_input(img,ax):\n",
    "    #先绘制数字大图，然后在像素图中标注像素值\n",
    "    ax.imshow(img,cmap='gray')\n",
    "    width,height=img.shape\n",
    "    thresh=img.max()/2.5\n",
    "    for x in range(width):\n",
    "        for y in range(height):\n",
    "            ax.annotate(str(round(img[x][y],2)),xy=(y,x),\n",
    "                    horizontalalignment='center',\n",
    "                    verticalalignment='center',\n",
    "                    color='white' if img[x][y]<thresh else 'black')\n",
    "            \n",
    "i=0\n",
    "fig=plt.figure(figsize=(10,10))#设定图像总大小\n",
    "ax=fig.add_subplot(111)\n",
    "#调用绘图函数\n",
    "visualize_input(x_train[i],ax)"
   ]
  },
  {
   "cell_type": "code",
   "execution_count": 15,
   "id": "7588005a",
   "metadata": {
    "ExecuteTime": {
     "end_time": "2023-05-22T10:48:29.831413Z",
     "start_time": "2023-05-22T10:48:29.827830Z"
    },
    "collapsed": true
   },
   "outputs": [],
   "source": [
    "import matplotlib.cm as cm"
   ]
  },
  {
   "cell_type": "code",
   "execution_count": 16,
   "id": "dbc307bc",
   "metadata": {
    "ExecuteTime": {
     "end_time": "2023-05-22T10:48:31.767754Z",
     "start_time": "2023-05-22T10:48:30.506895Z"
    }
   },
   "outputs": [
    {
     "data": {
      "image/png": "[encoded data removed]",
      "text/plain": [
       "<Figure size 1500x1500 with 4 Axes>"
      ]
     },
     "metadata": {},
     "output_type": "display_data"
    },
    {
     "data": {
      "image/png": "[encoded data removed]",
      "text/plain": [
       "<Figure size 1500x1500 with 4 Axes>"
      ]
     },
     "metadata": {},
     "output_type": "display_data"
    },
    {
     "data": {
      "image/png": "[encoded data removed]",
      "text/plain": [
       "<Figure size 1500x1500 with 4 Axes>"
      ]
     },
     "metadata": {},
     "output_type": "display_data"
    },
    {
     "data": {
      "image/png": "[encoded data removed]",
      "text/plain": [
       "<Figure size 1500x1500 with 4 Axes>"
      ]
     },
     "metadata": {},
     "output_type": "display_data"
    }
   ],
   "source": [
    "#绘制前16张图像\n",
    "for i in range(16):\n",
    "    plt.style.use({'figure.figsize':(15,15)})#设置图像大小\n",
    "    plt.subplot(1,4,i%4+1)#绘制一行四列的子图\n",
    "    plt.imshow(x_train[i])#绘制被分类错误的图片\n",
    "    title='真实标签：{}'.format(str(y_train[i]))#图标标题说明正确标签和错误结果\n",
    "    plt.title(title)\n",
    "    plt.xticks([])#关闭刻度线显示\n",
    "    plt.yticks([])\n",
    "    plt.axis('off')#关闭坐标轴显示\n",
    "    if i%4==3: \n",
    "        plt.show()"
   ]
  },
  {
   "cell_type": "markdown",
   "id": "b8573b87",
   "metadata": {},
   "source": [
    "预处理——归一化"
   ]
  },
  {
   "cell_type": "code",
   "execution_count": 17,
   "id": "c18b187d",
   "metadata": {
    "ExecuteTime": {
     "end_time": "2023-05-22T10:48:35.871478Z",
     "start_time": "2023-05-22T10:48:35.445611Z"
    },
    "collapsed": true
   },
   "outputs": [],
   "source": [
    "#缩放像素值[0,255]->[0,1]\n",
    "x_train=x_train.astype('float32')/255\n",
    "x_test=x_test.astype('float32')/255"
   ]
  },
  {
   "cell_type": "code",
   "execution_count": 18,
   "id": "68802f22",
   "metadata": {
    "ExecuteTime": {
     "end_time": "2023-05-22T10:48:36.655919Z",
     "start_time": "2023-05-22T10:48:36.626775Z"
    }
   },
   "outputs": [
    {
     "data": {
      "text/plain": [
       "array([[0.        , 0.        , 0.        , 0.        , 0.        ,\n",
       "        0.        , 0.        , 0.        , 0.        , 0.        ,\n",
       "        0.        , 0.        , 0.        , 0.        , 0.        ,\n",
       "        0.        , 0.        , 0.        , 0.        , 0.        ,\n",
       "        0.        , 0.        , 0.        , 0.        , 0.        ,\n",
       "        0.        , 0.        , 0.        ],\n",
       "       [0.        , 0.        , 0.        , 0.        , 0.        ,\n",
       "        0.        , 0.        , 0.        , 0.        , 0.        ,\n",
       "        0.        , 0.        , 0.        , 0.        , 0.        ,\n",
       "        0.        , 0.        , 0.        , 0.        , 0.        ,\n",
       "        0.        , 0.        , 0.        , 0.        , 0.        ,\n",
       "        0.        , 0.        , 0.        ],\n",
       "       [0.        , 0.        , 0.        , 0.        , 0.        ,\n",
       "        0.        , 0.        , 0.        , 0.        , 0.        ,\n",
       "        0.        , 0.        , 0.        , 0.        , 0.        ,\n",
       "        0.        , 0.        , 0.        , 0.        , 0.        ,\n",
       "        0.        , 0.        , 0.        , 0.        , 0.        ,\n",
       "        0.        , 0.        , 0.        ],\n",
       "       [0.        , 0.        , 0.        , 0.        , 0.        ,\n",
       "        0.        , 0.        , 0.        , 0.        , 0.        ,\n",
       "        0.        , 0.        , 0.        , 0.        , 0.        ,\n",
       "        0.        , 0.        , 0.        , 0.        , 0.        ,\n",
       "        0.        , 0.        , 0.        , 0.        , 0.        ,\n",
       "        0.        , 0.        , 0.        ],\n",
       "       [0.        , 0.        , 0.        , 0.        , 0.        ,\n",
       "        0.        , 0.        , 0.        , 0.        , 0.        ,\n",
       "        0.        , 0.        , 0.        , 0.        , 0.        ,\n",
       "        0.        , 0.        , 0.        , 0.        , 0.        ,\n",
       "        0.        , 0.        , 0.        , 0.        , 0.        ,\n",
       "        0.        , 0.        , 0.        ],\n",
       "       [0.        , 0.        , 0.        , 0.        , 0.        ,\n",
       "        0.        , 0.        , 0.        , 0.        , 0.        ,\n",
       "        0.        , 0.        , 0.01176471, 0.07058824, 0.07058824,\n",
       "        0.07058824, 0.49411765, 0.53333336, 0.6862745 , 0.10196079,\n",
       "        0.6509804 , 1.        , 0.96862745, 0.49803922, 0.        ,\n",
       "        0.        , 0.        , 0.        ],\n",
       "       [0.        , 0.        , 0.        , 0.        , 0.        ,\n",
       "        0.        , 0.        , 0.        , 0.11764706, 0.14117648,\n",
       "        0.36862746, 0.6039216 , 0.6666667 , 0.99215686, 0.99215686,\n",
       "        0.99215686, 0.99215686, 0.99215686, 0.88235295, 0.6745098 ,\n",
       "        0.99215686, 0.9490196 , 0.7647059 , 0.2509804 , 0.        ,\n",
       "        0.        , 0.        , 0.        ],\n",
       "       [0.        , 0.        , 0.        , 0.        , 0.        ,\n",
       "        0.        , 0.        , 0.19215687, 0.93333334, 0.99215686,\n",
       "        0.99215686, 0.99215686, 0.99215686, 0.99215686, 0.99215686,\n",
       "        0.99215686, 0.99215686, 0.9843137 , 0.3647059 , 0.32156864,\n",
       "        0.32156864, 0.21960784, 0.15294118, 0.        , 0.        ,\n",
       "        0.        , 0.        , 0.        ],\n",
       "       [0.        , 0.        , 0.        , 0.        , 0.        ,\n",
       "        0.        , 0.        , 0.07058824, 0.85882354, 0.99215686,\n",
       "        0.99215686, 0.99215686, 0.99215686, 0.99215686, 0.7764706 ,\n",
       "        0.7137255 , 0.96862745, 0.94509804, 0.        , 0.        ,\n",
       "        0.        , 0.        , 0.        , 0.        , 0.        ,\n",
       "        0.        , 0.        , 0.        ],\n",
       "       [0.        , 0.        , 0.        , 0.        , 0.        ,\n",
       "        0.        , 0.        , 0.        , 0.3137255 , 0.6117647 ,\n",
       "        0.41960785, 0.99215686, 0.99215686, 0.8039216 , 0.04313726,\n",
       "        0.        , 0.16862746, 0.6039216 , 0.        , 0.        ,\n",
       "        0.        , 0.        , 0.        , 0.        , 0.        ,\n",
       "        0.        , 0.        , 0.        ],\n",
       "       [0.        , 0.        , 0.        , 0.        , 0.        ,\n",
       "        0.        , 0.        , 0.        , 0.        , 0.05490196,\n",
       "        0.00392157, 0.6039216 , 0.99215686, 0.3529412 , 0.        ,\n",
       "        0.        , 0.        , 0.        , 0.        , 0.        ,\n",
       "        0.        , 0.        , 0.        , 0.        , 0.        ,\n",
       "        0.        , 0.        , 0.        ],\n",
       "       [0.        , 0.        , 0.        , 0.        , 0.        ,\n",
       "        0.        , 0.        , 0.        , 0.        , 0.        ,\n",
       "        0.        , 0.54509807, 0.99215686, 0.74509805, 0.00784314,\n",
       "        0.        , 0.        , 0.        , 0.        , 0.        ,\n",
       "        0.        , 0.        , 0.        , 0.        , 0.        ,\n",
       "        0.        , 0.        , 0.        ],\n",
       "       [0.        , 0.        , 0.        , 0.        , 0.        ,\n",
       "        0.        , 0.        , 0.        , 0.        , 0.        ,\n",
       "        0.        , 0.04313726, 0.74509805, 0.99215686, 0.27450982,\n",
       "        0.        , 0.        , 0.        , 0.        , 0.        ,\n",
       "        0.        , 0.        , 0.        , 0.        , 0.        ,\n",
       "        0.        , 0.        , 0.        ],\n",
       "       [0.        , 0.        , 0.        , 0.        , 0.        ,\n",
       "        0.        , 0.        , 0.        , 0.        , 0.        ,\n",
       "        0.        , 0.        , 0.13725491, 0.94509804, 0.88235295,\n",
       "        0.627451  , 0.42352942, 0.00392157, 0.        , 0.        ,\n",
       "        0.        , 0.        , 0.        , 0.        , 0.        ,\n",
       "        0.        , 0.        , 0.        ],\n",
       "       [0.        , 0.        , 0.        , 0.        , 0.        ,\n",
       "        0.        , 0.        , 0.        , 0.        , 0.        ,\n",
       "        0.        , 0.        , 0.        , 0.31764707, 0.9411765 ,\n",
       "        0.99215686, 0.99215686, 0.46666667, 0.09803922, 0.        ,\n",
       "        0.        , 0.        , 0.        , 0.        , 0.        ,\n",
       "        0.        , 0.        , 0.        ],\n",
       "       [0.        , 0.        , 0.        , 0.        , 0.        ,\n",
       "        0.        , 0.        , 0.        , 0.        , 0.        ,\n",
       "        0.        , 0.        , 0.        , 0.        , 0.1764706 ,\n",
       "        0.7294118 , 0.99215686, 0.99215686, 0.5882353 , 0.10588235,\n",
       "        0.        , 0.        , 0.        , 0.        , 0.        ,\n",
       "        0.        , 0.        , 0.        ],\n",
       "       [0.        , 0.        , 0.        , 0.        , 0.        ,\n",
       "        0.        , 0.        , 0.        , 0.        , 0.        ,\n",
       "        0.        , 0.        , 0.        , 0.        , 0.        ,\n",
       "        0.0627451 , 0.3647059 , 0.9882353 , 0.99215686, 0.73333335,\n",
       "        0.        , 0.        , 0.        , 0.        , 0.        ,\n",
       "        0.        , 0.        , 0.        ],\n",
       "       [0.        , 0.        , 0.        , 0.        , 0.        ,\n",
       "        0.        , 0.        , 0.        , 0.        , 0.        ,\n",
       "        0.        , 0.        , 0.        , 0.        , 0.        ,\n",
       "        0.        , 0.        , 0.9764706 , 0.99215686, 0.9764706 ,\n",
       "        0.2509804 , 0.        , 0.        , 0.        , 0.        ,\n",
       "        0.        , 0.        , 0.        ],\n",
       "       [0.        , 0.        , 0.        , 0.        , 0.        ,\n",
       "        0.        , 0.        , 0.        , 0.        , 0.        ,\n",
       "        0.        , 0.        , 0.        , 0.        , 0.18039216,\n",
       "        0.50980395, 0.7176471 , 0.99215686, 0.99215686, 0.8117647 ,\n",
       "        0.00784314, 0.        , 0.        , 0.        , 0.        ,\n",
       "        0.        , 0.        , 0.        ],\n",
       "       [0.        , 0.        , 0.        , 0.        , 0.        ,\n",
       "        0.        , 0.        , 0.        , 0.        , 0.        ,\n",
       "        0.        , 0.        , 0.15294118, 0.5803922 , 0.8980392 ,\n",
       "        0.99215686, 0.99215686, 0.99215686, 0.98039216, 0.7137255 ,\n",
       "        0.        , 0.        , 0.        , 0.        , 0.        ,\n",
       "        0.        , 0.        , 0.        ],\n",
       "       [0.        , 0.        , 0.        , 0.        , 0.        ,\n",
       "        0.        , 0.        , 0.        , 0.        , 0.        ,\n",
       "        0.09411765, 0.44705883, 0.8666667 , 0.99215686, 0.99215686,\n",
       "        0.99215686, 0.99215686, 0.7882353 , 0.30588236, 0.        ,\n",
       "        0.        , 0.        , 0.        , 0.        , 0.        ,\n",
       "        0.        , 0.        , 0.        ],\n",
       "       [0.        , 0.        , 0.        , 0.        , 0.        ,\n",
       "        0.        , 0.        , 0.        , 0.09019608, 0.25882354,\n",
       "        0.8352941 , 0.99215686, 0.99215686, 0.99215686, 0.99215686,\n",
       "        0.7764706 , 0.31764707, 0.00784314, 0.        , 0.        ,\n",
       "        0.        , 0.        , 0.        , 0.        , 0.        ,\n",
       "        0.        , 0.        , 0.        ],\n",
       "       [0.        , 0.        , 0.        , 0.        , 0.        ,\n",
       "        0.        , 0.07058824, 0.67058825, 0.85882354, 0.99215686,\n",
       "        0.99215686, 0.99215686, 0.99215686, 0.7647059 , 0.3137255 ,\n",
       "        0.03529412, 0.        , 0.        , 0.        , 0.        ,\n",
       "        0.        , 0.        , 0.        , 0.        , 0.        ,\n",
       "        0.        , 0.        , 0.        ],\n",
       "       [0.        , 0.        , 0.        , 0.        , 0.21568628,\n",
       "        0.6745098 , 0.8862745 , 0.99215686, 0.99215686, 0.99215686,\n",
       "        0.99215686, 0.95686275, 0.52156866, 0.04313726, 0.        ,\n",
       "        0.        , 0.        , 0.        , 0.        , 0.        ,\n",
       "        0.        , 0.        , 0.        , 0.        , 0.        ,\n",
       "        0.        , 0.        , 0.        ],\n",
       "       [0.        , 0.        , 0.        , 0.        , 0.53333336,\n",
       "        0.99215686, 0.99215686, 0.99215686, 0.83137256, 0.5294118 ,\n",
       "        0.5176471 , 0.0627451 , 0.        , 0.        , 0.        ,\n",
       "        0.        , 0.        , 0.        , 0.        , 0.        ,\n",
       "        0.        , 0.        , 0.        , 0.        , 0.        ,\n",
       "        0.        , 0.        , 0.        ],\n",
       "       [0.        , 0.        , 0.        , 0.        , 0.        ,\n",
       "        0.        , 0.        , 0.        , 0.        , 0.        ,\n",
       "        0.        , 0.        , 0.        , 0.        , 0.        ,\n",
       "        0.        , 0.        , 0.        , 0.        , 0.        ,\n",
       "        0.        , 0.        , 0.        , 0.        , 0.        ,\n",
       "        0.        , 0.        , 0.        ],\n",
       "       [0.        , 0.        , 0.        , 0.        , 0.        ,\n",
       "        0.        , 0.        , 0.        , 0.        , 0.        ,\n",
       "        0.        , 0.        , 0.        , 0.        , 0.        ,\n",
       "        0.        , 0.        , 0.        , 0.        , 0.        ,\n",
       "        0.        , 0.        , 0.        , 0.        , 0.        ,\n",
       "        0.        , 0.        , 0.        ],\n",
       "       [0.        , 0.        , 0.        , 0.        , 0.        ,\n",
       "        0.        , 0.        , 0.        , 0.        , 0.        ,\n",
       "        0.        , 0.        , 0.        , 0.        , 0.        ,\n",
       "        0.        , 0.        , 0.        , 0.        , 0.        ,\n",
       "        0.        , 0.        , 0.        , 0.        , 0.        ,\n",
       "        0.        , 0.        , 0.        ]], dtype=float32)"
      ]
     },
     "execution_count": 18,
     "metadata": {},
     "output_type": "execute_result"
    }
   ],
   "source": [
    "x_train[0]"
   ]
  },
  {
   "cell_type": "markdown",
   "id": "79bce5a4",
   "metadata": {},
   "source": [
    "预处理——标签独热向量编码"
   ]
  },
  {
   "cell_type": "code",
   "execution_count": 19,
   "id": "e6be16a8",
   "metadata": {
    "ExecuteTime": {
     "end_time": "2023-05-22T10:48:40.369657Z",
     "start_time": "2023-05-22T10:48:40.354095Z"
    }
   },
   "outputs": [
    {
     "data": {
      "text/plain": [
       "array([5, 0, 4, 1, 9, 2, 1, 3, 1, 4], dtype=uint8)"
      ]
     },
     "execution_count": 19,
     "metadata": {},
     "output_type": "execute_result"
    }
   ],
   "source": [
    "#前十个训练集标签\n",
    "y_train[:10]"
   ]
  },
  {
   "cell_type": "code",
   "execution_count": 20,
   "id": "52461add",
   "metadata": {
    "ExecuteTime": {
     "end_time": "2023-05-22T10:48:41.642893Z",
     "start_time": "2023-05-22T10:48:41.629550Z"
    }
   },
   "outputs": [
    {
     "data": {
      "text/plain": [
       "(60000, 28, 28)"
      ]
     },
     "execution_count": 20,
     "metadata": {},
     "output_type": "execute_result"
    }
   ],
   "source": [
    "x_train.shape[:10]"
   ]
  },
  {
   "cell_type": "raw",
   "id": "7680a0e2",
   "metadata": {},
   "source": [
    "独热编码（One-Hot Encoding），将离散特征的取值扩展到了欧式空间，离散特征的某个取值就对应欧式空间的某个点。将离散型特征使用独热编码（One-Hot Encoding），会让特征之间的距离计算更加合理。（本实验中让模型忽略了数字大小关系的干扰）"
   ]
  },
  {
   "cell_type": "code",
   "execution_count": 21,
   "id": "680829fd",
   "metadata": {
    "ExecuteTime": {
     "end_time": "2023-05-22T10:48:43.239653Z",
     "start_time": "2023-05-22T10:48:43.239391Z"
    },
    "collapsed": true
   },
   "outputs": [],
   "source": [
    "from keras.utils import np_utils\n",
    "\n",
    "y_train=np_utils.to_categorical(y_train,10)\n",
    "y_test=np_utils.to_categorical(y_test,10)"
   ]
  },
  {
   "cell_type": "code",
   "execution_count": 22,
   "id": "186c1609",
   "metadata": {
    "ExecuteTime": {
     "end_time": "2023-05-22T10:48:45.520124Z",
     "start_time": "2023-05-22T10:48:45.506177Z"
    }
   },
   "outputs": [
    {
     "data": {
      "text/plain": [
       "array([[0., 0., 0., 0., 0., 0., 0., 1., 0., 0.],\n",
       "       [0., 0., 1., 0., 0., 0., 0., 0., 0., 0.],\n",
       "       [0., 1., 0., 0., 0., 0., 0., 0., 0., 0.],\n",
       "       [1., 0., 0., 0., 0., 0., 0., 0., 0., 0.],\n",
       "       [0., 0., 0., 0., 1., 0., 0., 0., 0., 0.],\n",
       "       [0., 1., 0., 0., 0., 0., 0., 0., 0., 0.],\n",
       "       [0., 0., 0., 0., 1., 0., 0., 0., 0., 0.],\n",
       "       [0., 0., 0., 0., 0., 0., 0., 0., 0., 1.],\n",
       "       [0., 0., 0., 0., 0., 1., 0., 0., 0., 0.],\n",
       "       [0., 0., 0., 0., 0., 0., 0., 0., 0., 1.]], dtype=float32)"
      ]
     },
     "execution_count": 22,
     "metadata": {},
     "output_type": "execute_result"
    }
   ],
   "source": [
    "y_test[:10]"
   ]
  },
  {
   "cell_type": "code",
   "execution_count": 23,
   "id": "c8f9268d",
   "metadata": {
    "ExecuteTime": {
     "end_time": "2023-05-22T10:48:47.651702Z",
     "start_time": "2023-05-22T10:48:47.648908Z"
    }
   },
   "outputs": [
    {
     "data": {
      "text/plain": [
       "array([0., 0., 0., 0., 0., 1., 0., 0., 0., 0.], dtype=float32)"
      ]
     },
     "execution_count": 23,
     "metadata": {},
     "output_type": "execute_result"
    }
   ],
   "source": [
    "y_train[0]"
   ]
  },
  {
   "cell_type": "markdown",
   "id": "1f19e507",
   "metadata": {},
   "source": [
    "构建MLP多层感知机神经网络<p>\n",
    "Dense密集层，也就是全连接层<p>\n",
    "Dropout丢弃层，防止过拟合<p>\n",
    "Flatten将28长28宽的图像拉成784维的长向量"
   ]
  },
  {
   "cell_type": "code",
   "execution_count": 24,
   "id": "9312769a",
   "metadata": {
    "ExecuteTime": {
     "end_time": "2023-05-22T10:48:55.228051Z",
     "start_time": "2023-05-22T10:48:55.214873Z"
    }
   },
   "outputs": [
    {
     "data": {
      "text/plain": [
       "(28, 28)"
      ]
     },
     "execution_count": 24,
     "metadata": {},
     "output_type": "execute_result"
    }
   ],
   "source": [
    "x_train.shape[1:]"
   ]
  },
  {
   "cell_type": "code",
   "execution_count": 27,
   "id": "f0b6f98d",
   "metadata": {
    "ExecuteTime": {
     "end_time": "2023-05-22T10:49:32.426184Z",
     "start_time": "2023-05-22T10:49:32.393602Z"
    }
   },
   "outputs": [],
   "source": [
    "from keras.models import Sequential\n",
    "from keras.layers import Dense,Dropout,Flatten\n",
    "\n",
    "model=Sequential()#顺序（堆叠）模型\n",
    "model.add(Flatten(input_shape=(28,28)))\n",
    "\n",
    "#第一层 512个神经元的全连接神经网络，激活函数设为relu，Dropout率为0.2\n",
    "model.add(Dense(512,activation='relu'))\n",
    "model.add(Dropout(0.2))\n",
    "\n",
    "#第二层 512个神经元的全连接神经网络，激活函数设为relu，Dropout率为0.2\n",
    "model.add(Dense(512,activation='relu'))\n",
    "model.add(Dropout(0.2))\n",
    "\n",
    "#输出层，10个神经元，softmax输出，对应图像为10个数字的概率\n",
    "model.add(Dense(10,activation='softmax'))"
   ]
  },
  {
   "cell_type": "code",
   "execution_count": 28,
   "id": "6c658fd3",
   "metadata": {
    "ExecuteTime": {
     "end_time": "2023-05-22T10:49:34.125447Z",
     "start_time": "2023-05-22T10:49:34.072975Z"
    }
   },
   "outputs": [
    {
     "name": "stdout",
     "output_type": "stream",
     "text": [
      "Model: \"sequential_1\"\n",
      "_________________________________________________________________\n",
      " Layer (type)                Output Shape              Param #   \n",
      "=================================================================\n",
      " flatten_1 (Flatten)         (None, 784)               0         \n",
      "                                                                 \n",
      " dense_3 (Dense)             (None, 512)               401920    \n",
      "                                                                 \n",
      " dropout_2 (Dropout)         (None, 512)               0         \n",
      "                                                                 \n",
      " dense_4 (Dense)             (None, 512)               262656    \n",
      "                                                                 \n",
      " dropout_3 (Dropout)         (None, 512)               0         \n",
      "                                                                 \n",
      " dense_5 (Dense)             (None, 10)                5130      \n",
      "                                                                 \n",
      "=================================================================\n",
      "Total params: 669,706\n",
      "Trainable params: 669,706\n",
      "Non-trainable params: 0\n",
      "_________________________________________________________________\n"
     ]
    }
   ],
   "source": [
    "#显示模型\n",
    "model.summary()"
   ]
  },
  {
   "cell_type": "code",
   "execution_count": 29,
   "id": "f6f2a5f8",
   "metadata": {
    "ExecuteTime": {
     "end_time": "2023-05-22T10:49:39.388403Z",
     "start_time": "2023-05-22T10:49:39.372337Z"
    },
    "collapsed": true
   },
   "outputs": [],
   "source": [
    "#打包模型，损失函数为多分类交叉熵损失函数，梯度下降优化器为rmsprop，训练过程中输出准确率信息\n",
    "model.compile(loss='categorical_crossentropy',optimizer='rmsprop',metrics=['accuracy'])"
   ]
  },
  {
   "cell_type": "code",
   "execution_count": 30,
   "id": "6b9f2d4b",
   "metadata": {
    "ExecuteTime": {
     "end_time": "2023-05-22T10:49:41.929879Z",
     "start_time": "2023-05-22T10:49:40.270849Z"
    }
   },
   "outputs": [
    {
     "name": "stdout",
     "output_type": "stream",
     "text": [
      "133/313 [===========>..................] - ETA: 0s - loss: 2.3188 - accuracy: 0.0832"
     ]
    },
    {
     "name": "stderr",
     "output_type": "stream",
     "text": [
      "2023-05-22 10:49:41.820181: I tensorflow/compiler/xla/stream_executor/cuda/cuda_blas.cc:630] TensorFloat-32 will be used for the matrix multiplication. This will only be logged once.\n"
     ]
    },
    {
     "name": "stdout",
     "output_type": "stream",
     "text": [
      "313/313 [==============================] - 1s 1ms/step - loss: 2.3284 - accuracy: 0.0683\n"
     ]
    },
    {
     "data": {
      "text/plain": [
       "[2.328382730484009, 0.06830000132322311]"
      ]
     },
     "execution_count": 30,
     "metadata": {},
     "output_type": "execute_result"
    }
   ],
   "source": [
    "model.evaluate(x_test,y_test,verbose=1)\n",
    "#verbose = 0 为不在标准输出流输出日志信息\n",
    "#verbose = 1 为输出进度条记录\n",
    "#verbose = 2 没有进度条，只是输出一行记录"
   ]
  },
  {
   "cell_type": "code",
   "execution_count": 31,
   "id": "0d757b83",
   "metadata": {
    "ExecuteTime": {
     "end_time": "2023-05-22T10:49:45.971663Z",
     "start_time": "2023-05-22T10:49:45.927737Z"
    }
   },
   "outputs": [
    {
     "data": {
      "text/plain": [
       "(60000, 10)"
      ]
     },
     "execution_count": 31,
     "metadata": {},
     "output_type": "execute_result"
    }
   ],
   "source": [
    "y_train.shape"
   ]
  },
  {
   "cell_type": "code",
   "execution_count": 34,
   "id": "94ffce4b",
   "metadata": {
    "ExecuteTime": {
     "end_time": "2023-05-22T10:52:55.286296Z",
     "start_time": "2023-05-22T10:52:55.222812Z"
    }
   },
   "outputs": [
    {
     "name": "stderr",
     "output_type": "stream",
     "text": [
      "2023-05-22 10:52:45.573648: W tensorflow/tsl/framework/cpu_allocator_impl.cc:82] Allocation of 150528000 exceeds 10% of free system memory.\n",
      "2023-05-22 10:52:55.639637: W tensorflow/tsl/framework/bfc_allocator.cc:479] Allocator (GPU_0_bfc) ran out of memory trying to allocate 143.55MiB (rounded to 150528000)requested by op _EagerConst\n",
      "If the cause is memory fragmentation maybe the environment variable 'TF_GPU_ALLOCATOR=cuda_malloc_async' will improve the situation. \n",
      "Current allocation summary follows.\n",
      "Current allocation summary follows.\n",
      "2023-05-22 10:52:55.639694: I tensorflow/tsl/framework/bfc_allocator.cc:1034] BFCAllocator dump for GPU_0_bfc\n",
      "2023-05-22 10:52:55.639706: I tensorflow/tsl/framework/bfc_allocator.cc:1041] Bin (256): \tTotal Chunks: 23, Chunks in use: 21. 5.8KiB allocated for chunks. 5.2KiB in use in bin. 176B client-requested in use in bin.\n",
      "2023-05-22 10:52:55.639712: I tensorflow/tsl/framework/bfc_allocator.cc:1041] Bin (512): \tTotal Chunks: 0, Chunks in use: 0. 0B allocated for chunks. 0B in use in bin. 0B client-requested in use in bin.\n",
      "2023-05-22 10:52:55.639718: I tensorflow/tsl/framework/bfc_allocator.cc:1041] Bin (1024): \tTotal Chunks: 1, Chunks in use: 1. 1.2KiB allocated for chunks. 1.2KiB in use in bin. 1.0KiB client-requested in use in bin.\n",
      "2023-05-22 10:52:55.639723: I tensorflow/tsl/framework/bfc_allocator.cc:1041] Bin (2048): \tTotal Chunks: 4, Chunks in use: 4. 8.0KiB allocated for chunks. 8.0KiB in use in bin. 8.0KiB client-requested in use in bin.\n",
      "2023-05-22 10:52:55.639728: I tensorflow/tsl/framework/bfc_allocator.cc:1041] Bin (4096): \tTotal Chunks: 0, Chunks in use: 0. 0B allocated for chunks. 0B in use in bin. 0B client-requested in use in bin.\n",
      "2023-05-22 10:52:55.639732: I tensorflow/tsl/framework/bfc_allocator.cc:1041] Bin (8192): \tTotal Chunks: 0, Chunks in use: 0. 0B allocated for chunks. 0B in use in bin. 0B client-requested in use in bin.\n",
      "2023-05-22 10:52:55.639737: I tensorflow/tsl/framework/bfc_allocator.cc:1041] Bin (16384): \tTotal Chunks: 3, Chunks in use: 2. 56.8KiB allocated for chunks. 40.0KiB in use in bin. 40.0KiB client-requested in use in bin.\n",
      "2023-05-22 10:52:55.639742: I tensorflow/tsl/framework/bfc_allocator.cc:1041] Bin (32768): \tTotal Chunks: 1, Chunks in use: 0. 36.5KiB allocated for chunks. 0B in use in bin. 0B client-requested in use in bin.\n",
      "2023-05-22 10:52:55.639746: I tensorflow/tsl/framework/bfc_allocator.cc:1041] Bin (65536): \tTotal Chunks: 0, Chunks in use: 0. 0B allocated for chunks. 0B in use in bin. 0B client-requested in use in bin.\n",
      "2023-05-22 10:52:55.639751: I tensorflow/tsl/framework/bfc_allocator.cc:1041] Bin (131072): \tTotal Chunks: 0, Chunks in use: 0. 0B allocated for chunks. 0B in use in bin. 0B client-requested in use in bin.\n",
      "2023-05-22 10:52:55.639756: I tensorflow/tsl/framework/bfc_allocator.cc:1041] Bin (262144): \tTotal Chunks: 1, Chunks in use: 1. 390.8KiB allocated for chunks. 390.8KiB in use in bin. 390.6KiB client-requested in use in bin.\n",
      "2023-05-22 10:52:55.639760: I tensorflow/tsl/framework/bfc_allocator.cc:1041] Bin (524288): \tTotal Chunks: 0, Chunks in use: 0. 0B allocated for chunks. 0B in use in bin. 0B client-requested in use in bin.\n",
      "2023-05-22 10:52:55.639765: I tensorflow/tsl/framework/bfc_allocator.cc:1041] Bin (1048576): \tTotal Chunks: 6, Chunks in use: 4. 8.17MiB allocated for chunks. 5.12MiB in use in bin. 5.06MiB client-requested in use in bin.\n",
      "2023-05-22 10:52:55.639769: I tensorflow/tsl/framework/bfc_allocator.cc:1041] Bin (2097152): \tTotal Chunks: 0, Chunks in use: 0. 0B allocated for chunks. 0B in use in bin. 0B client-requested in use in bin.\n",
      "2023-05-22 10:52:55.639773: I tensorflow/tsl/framework/bfc_allocator.cc:1041] Bin (4194304): \tTotal Chunks: 0, Chunks in use: 0. 0B allocated for chunks. 0B in use in bin. 0B client-requested in use in bin.\n",
      "2023-05-22 10:52:55.639777: I tensorflow/tsl/framework/bfc_allocator.cc:1041] Bin (8388608): \tTotal Chunks: 0, Chunks in use: 0. 0B allocated for chunks. 0B in use in bin. 0B client-requested in use in bin.\n",
      "2023-05-22 10:52:55.639782: I tensorflow/tsl/framework/bfc_allocator.cc:1041] Bin (16777216): \tTotal Chunks: 1, Chun"
     ]
    },
    {
     "ename": "InternalError",
     "evalue": "Failed copying input tensor from /job:localhost/replica:0/task:0/device:CPU:0 to /job:localhost/replica:0/task:0/device:GPU:0 in order to run _EagerConst: Dst tensor is not initialized.",
     "output_type": "error",
     "traceback": [
      "\u001b[0;31m---------------------------------------------------------------------------\u001b[0m",
      "\u001b[0;31mInternalError\u001b[0m                             Traceback (most recent call last)",
      "\u001b[0;32m/tmp/ipykernel_73359/2007442075.py\u001b[0m in \u001b[0;36m<module>\u001b[0;34m\u001b[0m\n\u001b[1;32m      4\u001b[0m \u001b[0;34m\u001b[0m\u001b[0m\n\u001b[1;32m      5\u001b[0m hist=model.fit(x_train,y_train,batch_size=128,epochs=10,validation_split=0.2,callbacks=[checkpointer],\n\u001b[0;32m----> 6\u001b[0;31m               verbose=1,shuffle=True)#每次传入128个图片，遍历10轮,选取0.2的数据为验证集，存入早停点，打乱样本顺序\n\u001b[0m",
      "\u001b[0;32m~/miniconda3/envs/env/lib/python3.7/site-packages/keras/utils/traceback_utils.py\u001b[0m in \u001b[0;36merror_handler\u001b[0;34m(*args, **kwargs)\u001b[0m\n\u001b[1;32m     68\u001b[0m             \u001b[0;31m# To get the full stack trace, call:\u001b[0m\u001b[0;34m\u001b[0m\u001b[0;34m\u001b[0m\u001b[0;34m\u001b[0m\u001b[0m\n\u001b[1;32m     69\u001b[0m             \u001b[0;31m# `tf.debugging.disable_traceback_filtering()`\u001b[0m\u001b[0;34m\u001b[0m\u001b[0;34m\u001b[0m\u001b[0;34m\u001b[0m\u001b[0m\n\u001b[0;32m---> 70\u001b[0;31m             \u001b[0;32mraise\u001b[0m \u001b[0me\u001b[0m\u001b[0;34m.\u001b[0m\u001b[0mwith_traceback\u001b[0m\u001b[0;34m(\u001b[0m\u001b[0mfiltered_tb\u001b[0m\u001b[0;34m)\u001b[0m \u001b[0;32mfrom\u001b[0m \u001b[0;32mNone\u001b[0m\u001b[0;34m\u001b[0m\u001b[0;34m\u001b[0m\u001b[0m\n\u001b[0m\u001b[1;32m     71\u001b[0m         \u001b[0;32mfinally\u001b[0m\u001b[0;34m:\u001b[0m\u001b[0;34m\u001b[0m\u001b[0;34m\u001b[0m\u001b[0m\n\u001b[1;32m     72\u001b[0m             \u001b[0;32mdel\u001b[0m \u001b[0mfiltered_tb\u001b[0m\u001b[0;34m\u001b[0m\u001b[0;34m\u001b[0m\u001b[0m\n",
      "\u001b[0;32m~/miniconda3/envs/env/lib/python3.7/site-packages/tensorflow/python/framework/constant_op.py\u001b[0m in \u001b[0;36mconvert_to_eager_tensor\u001b[0;34m(value, ctx, dtype)\u001b[0m\n\u001b[1;32m    100\u001b[0m       \u001b[0mdtype\u001b[0m \u001b[0;34m=\u001b[0m \u001b[0mdtypes\u001b[0m\u001b[0;34m.\u001b[0m\u001b[0mas_dtype\u001b[0m\u001b[0;34m(\u001b[0m\u001b[0mdtype\u001b[0m\u001b[0;34m)\u001b[0m\u001b[0;34m.\u001b[0m\u001b[0mas_datatype_enum\u001b[0m\u001b[0;34m\u001b[0m\u001b[0;34m\u001b[0m\u001b[0m\n\u001b[1;32m    101\u001b[0m   \u001b[0mctx\u001b[0m\u001b[0;34m.\u001b[0m\u001b[0mensure_initialized\u001b[0m\u001b[0;34m(\u001b[0m\u001b[0;34m)\u001b[0m\u001b[0;34m\u001b[0m\u001b[0;34m\u001b[0m\u001b[0m\n\u001b[0;32m--> 102\u001b[0;31m   \u001b[0;32mreturn\u001b[0m \u001b[0mops\u001b[0m\u001b[0;34m.\u001b[0m\u001b[0mEagerTensor\u001b[0m\u001b[0;34m(\u001b[0m\u001b[0mvalue\u001b[0m\u001b[0;34m,\u001b[0m \u001b[0mctx\u001b[0m\u001b[0;34m.\u001b[0m\u001b[0mdevice_name\u001b[0m\u001b[0;34m,\u001b[0m \u001b[0mdtype\u001b[0m\u001b[0;34m)\u001b[0m\u001b[0;34m\u001b[0m\u001b[0;34m\u001b[0m\u001b[0m\n\u001b[0m\u001b[1;32m    103\u001b[0m \u001b[0;34m\u001b[0m\u001b[0m\n\u001b[1;32m    104\u001b[0m \u001b[0;34m\u001b[0m\u001b[0m\n",
      "\u001b[0;31mInternalError\u001b[0m: Failed copying input tensor from /job:localhost/replica:0/task:0/device:CPU:0 to /job:localhost/replica:0/task:0/device:GPU:0 in order to run _EagerConst: Dst tensor is not initialized."
     ]
    },
    {
     "name": "stderr",
     "output_type": "stream",
     "text": [
      "ks in use: 1. 29.91MiB allocated for chunks. 29.91MiB in use in bin. 29.91MiB client-requested in use in bin.\n",
      "2023-05-22 10:52:55.639793: I tensorflow/tsl/framework/bfc_allocator.cc:1041] Bin (33554432): \tTotal Chunks: 0, Chunks in use: 0. 0B allocated for chunks. 0B in use in bin. 0B client-requested in use in bin.\n",
      "2023-05-22 10:52:55.639797: I tensorflow/tsl/framework/bfc_allocator.cc:1041] Bin (67108864): \tTotal Chunks: 0, Chunks in use: 0. 0B allocated for chunks. 0B in use in bin. 0B client-requested in use in bin.\n",
      "2023-05-22 10:52:55.639802: I tensorflow/tsl/framework/bfc_allocator.cc:1041] Bin (134217728): \tTotal Chunks: 1, Chunks in use: 0. 128.12MiB allocated for chunks. 0B in use in bin. 0B client-requested in use in bin.\n",
      "2023-05-22 10:52:55.639806: I tensorflow/tsl/framework/bfc_allocator.cc:1041] Bin (268435456): \tTotal Chunks: 0, Chunks in use: 0. 0B allocated for chunks. 0B in use in bin. 0B client-requested in use in bin.\n",
      "2023-05-22 10:52:55.639814: I tensorflow/tsl/framework/bfc_allocator.cc:1057] Bin for 143.55MiB was 128.00MiB, Chunk State: \n",
      "2023-05-22 10:52:55.639824: I tensorflow/tsl/framework/bfc_allocator.cc:1063]   Size: 128.12MiB | Requested Size: 0B | in_use: 0 | bin_num: 19, prev:   Size: 29.91MiB | Requested Size: 29.91MiB | in_use: 1 | bin_num: -1\n",
      "2023-05-22 10:52:55.639828: I tensorflow/tsl/framework/bfc_allocator.cc:1070] Next region of size 174784512\n",
      "2023-05-22 10:52:55.639837: I tensorflow/tsl/framework/bfc_allocator.cc:1090] InUse at 7f2490000000 of size 256 next 1\n",
      "2023-05-22 10:52:55.639841: I tensorflow/tsl/framework/bfc_allocator.cc:1090] InUse at 7f2490000100 of size 1280 next 2\n",
      "2023-05-22 10:52:55.639845: I tensorflow/tsl/framework/bfc_allocator.cc:1090] InUse at 7f2490000600 of size 256 next 3\n",
      "2023-05-22 10:52:55.639849: I tensorflow/tsl/framework/bfc_allocator.cc:1090] InUse at 7f2490000700 of size 256 next 4\n",
      "2023-05-22 10:52:55.639852: I tensorflow/tsl/framework/bfc_allocator.cc:1090] InUse at 7f2490000800 of size 256 next 6\n",
      "2023-05-22 10:52:55.639856: I tensorflow/tsl/framework/bfc_allocator.cc:1090] InUse at 7f2490000900 of size 2048 next 7\n",
      "2023-05-22 10:52:55.639860: I tensorflow/tsl/framework/bfc_allocator.cc:1090] InUse at 7f2490001100 of size 256 next 5\n",
      "2023-05-22 10:52:55.639864: I tensorflow/tsl/framework/bfc_allocator.cc:1090] InUse at 7f2490001200 of size 256 next 8\n",
      "2023-05-22 10:52:55.639867: I tensorflow/tsl/framework/bfc_allocator.cc:1090] InUse at 7f2490001300 of size 2048 next 12\n",
      "2023-05-22 10:52:55.639871: I tensorflow/tsl/framework/bfc_allocator.cc:1090] InUse at 7f2490001b00 of size 256 next 13\n",
      "2023-05-22 10:52:55.639874: I tensorflow/tsl/framework/bfc_allocator.cc:1090] InUse at 7f2490001c00 of size 256 next 11\n",
      "2023-05-22 10:52:55.639878: I tensorflow/tsl/framework/bfc_allocator.cc:1090] InUse at 7f2490001d00 of size 256 next 16\n",
      "2023-05-22 10:52:55.639882: I tensorflow/tsl/framework/bfc_allocator.cc:1090] InUse at 7f2490001e00 of size 2048 next 17\n",
      "2023-05-22 10:52:55.639885: I tensorflow/tsl/framework/bfc_allocator.cc:1090] InUse at 7f2490002600 of size 2048 next 14\n",
      "2023-05-22 10:52:55.639889: I tensorflow/tsl/framework/bfc_allocator.cc:1090] Free  at 7f2490002e00 of size 37376 next 19\n",
      "2023-05-22 10:52:55.639892: I tensorflow/tsl/framework/bfc_allocator.cc:1090] InUse at 7f249000c000 of size 20480 next 20\n",
      "2023-05-22 10:52:55.639896: I tensorflow/tsl/framework/bfc_allocator.cc:1090] Free  at 7f2490011000 of size 2033152 next 15\n",
      "2023-05-22 10:52:55.639900: I tensorflow/tsl/framework/bfc_allocator.cc:1090] InUse at 7f2490201600 of size 1111296 next 9\n",
      "2023-05-22 10:52:55.639904: I tensorflow/tsl/framework/bfc_allocator.cc:1090] InUse at 7f2490310b00 of size 1605632 next 10\n",
      "2023-05-22 10:52:55.639909: I tensorflow/tsl/framework/bfc_allocator.cc:1090] InUse at 7f2490498b00 of size 256 next 24\n",
      "2023-05-22 10:52:55.639913: I tensorflow/tsl/framework/bfc_allocator.cc:1090] InUse at 7f2490498c00 of size 256 next 22\n",
      "2023-05-22 10:52:55.639917: I tensorflow/tsl/framework/bfc_allocator.cc:1090] InUse at 7f2490498d00 of size 256 next 25\n",
      "2023-05-22 10:52:55.639922: I tensorflow/tsl/framework/bfc_allocator.cc:1090] InUse at 7f2490498e00 of size 256 next 28\n",
      "2023-05-22 10:52:55.639926: I tensorflow/tsl/framework/bfc_allocator.cc:1090] InUse at 7f2490498f00 of size 256 next 29\n",
      "2023-05-22 10:52:55.639929: I tensorflow/tsl/framework/bfc_allocator.cc:1090] InUse at 7f2490499000 of size 256 next 32\n",
      "2023-05-22 10:52:55.639933: I tensorflow/tsl/framework/bfc_allocator.cc:1090] InUse at 7f2490499100 of size 256 next 33\n",
      "2023-05-22 10:52:55.639936: I tensorflow/tsl/framework/bfc_allocator.cc:1090] InUse at 7f2490499200 of size 256 next 34\n",
      "2023-05-22 10:52:55.639940: I tensorflow/tsl/framework/bfc_allocator.cc:1090] InUse at 7f2490499300 of size 256 next 35\n",
      "2023-05-22 10:52:55.639944: I tensorflow/tsl/framework/bfc_allocator.cc:1090] Free  at 7f2490499400 of size 256 next 42\n",
      "2023-05-22 10:52:55.639947: I tensorflow/tsl/framework/bfc_allocator.cc:1090] InUse at 7f2490499500 of size 256 next 37\n",
      "2023-05-22 10:52:55.639951: I tensorflow/tsl/framework/bfc_allocator.cc:1090] InUse at 7f2490499600 of size 256 next 40\n",
      "2023-05-22 10:52:55.639954: I tensorflow/tsl/framework/bfc_allocator.cc:1090] Free  at 7f2490499700 of size 256 next 45\n",
      "2023-05-22 10:52:55.639958: I tensorflow/tsl/framework/bfc_allocator.cc:1090] InUse at 7f2490499800 of size 256 next 43\n",
      "2023-05-22 10:52:55.639961: I tensorflow/tsl/framework/bfc_allocator.cc:1090] Free  at 7f2490499900 of size 17152 next 26\n",
      "2023-05-22 10:52:55.639965: I tensorflow/tsl/framework/bfc_allocator.cc:1090] InUse at 7f249049dc00 of size 20480 next 27\n",
      "2023-05-22 10:52:55.639969: I tensorflow/tsl/framework/bfc_allocator.cc:1090] InUse at 7f24904a2c00 of size 400128 next 31\n",
      "2023-05-22 10:52:55.639973: I tensorflow/tsl/framework/bfc_allocator.cc:1090] Free  at 7f2490504700 of size 1164288 next 21\n",
      "2023-05-22 10:52:55.639976: I tensorflow/tsl/framework/bfc_allocator.cc:1090] InUse at 7f2490620b00 of size 1605632 next 18\n",
      "2023-05-22 10:52:55.639980: I tensorflow/tsl/framework/bfc_allocator.cc:1090] InUse at 7f24907a8b00 of size 1048576 next 23\n",
      "2023-05-22 10:52:55.639984: I tensorflow/tsl/framework/bfc_allocator.cc:1090] InUse at 7f24908a8b00 of size 31360000 next 30\n",
      "2023-05-22 10:52:55.639988: I tensorflow/tsl/framework/bfc_allocator.cc:1090] Free  at 7f2492690f00 of size 134344960 next 18446744073709551615\n",
      "2023-05-22 10:52:55.639991: I tensorflow/tsl/framework/bfc_allocator.cc:1095]      Summary of in-use Chunks by size: \n",
      "2023-05-22 10:52:55.639996: I tensorflow/tsl/framework/bfc_allocator.cc:1098] 21 Chunks of size 256 totalling 5.2KiB\n",
      "2023-05-22 10:52:55.640001: I tensorflow/tsl/framework/bfc_allocator.cc:1098] 1 Chunks of size 1280 totalling 1.2KiB\n",
      "2023-05-22 10:52:55.640005: I tensorflow/tsl/framework/bfc_allocator.cc:1098] 4 Chunks of size 2048 totalling 8.0KiB\n",
      "2023-05-22 10:52:55.640009: I tensorflow/tsl/framework/bfc_allocator.cc:1098] 2 Chunks of size 20480 totalling 40.0KiB\n",
      "2023-05-22 10:52:55.640013: I tensorflow/tsl/framework/bfc_allocator.cc:1098] 1 Chunks of size 400128 totalling 390.8KiB\n",
      "2023-05-22 10:52:55.640017: I tensorflow/tsl/framework/bfc_allocator.cc:1098] 1 Chunks of size 1048576 totalling 1.00MiB\n",
      "2023-05-22 10:52:55.640021: I tensorflow/tsl/framework/bfc_allocator.cc:1098] 1 Chunks of size 1111296 totalling 1.06MiB\n",
      "2023-05-22 10:52:55.640025: I tensorflow/tsl/framework/bfc_allocator.cc:1098] 2 Chunks of size 1605632 totalling 3.06MiB\n",
      "2023-05-22 10:52:55.640029: I tensorflow/tsl/framework/bfc_allocator.cc:1098] 1 Chunks of size 31360000 totalling 29.91MiB\n",
      "2023-05-22 10:52:55.640033: I tensorflow/tsl/framework/bfc_allocator.cc:1102] Sum Total of in-use chunks: 35.46MiB\n",
      "2023-05-22 10:52:55.640037: I tensorflow/tsl/framework/bfc_allocator.cc:1104] total_region_allocated_bytes_: 174784512 memory_limit_: 174784512 available bytes: 0 curr_region_allocation_bytes_: 349569024\n",
      "2023-05-22 10:52:55.640045: I tensorflow/tsl/framework/bfc_allocator.cc:1110] Stats: \n",
      "Limit:                       174784512\n",
      "InUse:                        37187072\n",
      "MaxInUse:                     37355008\n",
      "NumAllocs:                        8202\n",
      "MaxAllocSize:                 31360000\n",
      "Reserved:                            0\n",
      "PeakReserved:                        0\n",
      "LargestFreeBlock:                    0\n",
      "\n",
      "2023-05-22 10:52:55.640053: W tensorflow/tsl/framework/bfc_allocator.cc:492] ************************____________________________________________________________________________\n"
     ]
    }
   ],
   "source": [
    "from keras.callbacks import ModelCheckpoint\n",
    "\n",
    "checkpointer=ModelCheckpoint(filepath='mnist.model.best.hdf5',verbose=1,save_best_only=True)\n",
    "\n",
    "hist=model.fit(x_train,y_train,batch_size=128,epochs=10,validation_split=0.2,callbacks=[checkpointer],\n",
    "              verbose=1,shuffle=True)#每次传入128个图片，遍历10轮,选取0.2的数据为验证集，存入早停点，打乱样本顺序"
   ]
  },
  {
   "cell_type": "code",
   "execution_count": 33,
   "id": "e126a036",
   "metadata": {},
   "outputs": [
    {
     "data": {
      "image/png": "[encoded data removed]",
      "text/plain": [
       "<Figure size 432x288 with 1 Axes>"
      ]
     },
     "metadata": {},
     "output_type": "display_data"
    },
    {
     "data": {
      "image/png": "[encoded data removed]",
      "text/plain": [
       "<Figure size 432x288 with 1 Axes>"
      ]
     },
     "metadata": {},
     "output_type": "display_data"
    }
   ],
   "source": [
    "import matplotlib.pyplot as plt\n",
    "%matplotlib inline\n",
    "\n",
    "def plot_history(network_history):\n",
    "    plt.figure()\n",
    "    plt.xlabel('Epochs')\n",
    "    plt.ylabel('Loss')\n",
    "    plt.plot(network_history.history['loss'])\n",
    "    plt.plot(network_history.history['val_loss'])\n",
    "    plt.legend(['Traning','Validation'])\n",
    "    \n",
    "    plt.figure()\n",
    "    plt.xlabel('Epochs')\n",
    "    plt.ylabel('Accuracy')\n",
    "    plt.plot(network_history.history['accuracy'])\n",
    "    plt.plot(network_history.history['val_accuracy'])\n",
    "    plt.legend(['Traning','Validation'],loc='lower right')\n",
    "    plt.show()\n",
    "    \n",
    "plot_history(hist)    "
   ]
  },
  {
   "cell_type": "markdown",
   "id": "4b2c743f",
   "metadata": {},
   "source": [
    "加载训教过程中验证集上准确率最高的最优模型"
   ]
  },
  {
   "cell_type": "code",
   "execution_count": 34,
   "id": "612b0fa2",
   "metadata": {
    "collapsed": true
   },
   "outputs": [],
   "source": [
    "model.load_weights('mnist.model.best.hdf5')"
   ]
  },
  {
   "cell_type": "code",
   "execution_count": 35,
   "id": "b681923a",
   "metadata": {},
   "outputs": [
    {
     "data": {
      "text/plain": [
       "[0.07752010045670904, 0.9754999876022339]"
      ]
     },
     "execution_count": 35,
     "metadata": {},
     "output_type": "execute_result"
    }
   ],
   "source": [
    "#再次评估模型\n",
    "model.evaluate(x_test,y_test,verbose=0)"
   ]
  },
  {
   "cell_type": "code",
   "execution_count": null,
   "id": "9b0b70ba",
   "metadata": {
    "collapsed": true
   },
   "outputs": [],
   "source": []
  },
  {
   "cell_type": "code",
   "execution_count": null,
   "id": "7b4f9057",
   "metadata": {
    "collapsed": true
   },
   "outputs": [],
   "source": []
  }
 ],
 "metadata": {
  "kernelspec": {
   "display_name": "Python 3",
   "language": "python",
   "name": "python3"
  },
  "language_info": {
   "codemirror_mode": {
    "name": "ipython",
    "version": 3
   },
   "file_extension": ".py",
   "mimetype": "text/x-python",
   "name": "python",
   "nbconvert_exporter": "python",
   "pygments_lexer": "ipython3",
   "version": "3.6.13"
  }
 },
 "nbformat": 4,
 "nbformat_minor": 5
}
